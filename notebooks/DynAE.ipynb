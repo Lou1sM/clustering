{
 "cells": [
  {
   "cell_type": "code",
   "execution_count": 69,
   "metadata": {},
   "outputs": [],
   "source": [
    "import tensorflow as tf\n",
    "import numpy as np\n",
    "import tensorflow_datasets as tfds\n",
    "from ipdb import set_trace\n",
    "import matplotlib.pyplot as plt\n",
    "from tensorflow.keras import Model"
   ]
  },
  {
   "cell_type": "code",
   "execution_count": 70,
   "metadata": {},
   "outputs": [],
   "source": [
    "bs=256\n",
    "lmbda=0.0"
   ]
  },
  {
   "cell_type": "code",
   "execution_count": 71,
   "metadata": {
    "scrolled": true
   },
   "outputs": [
    {
     "name": "stderr",
     "output_type": "stream",
     "text": [
      "WARNING:absl:Warning: Setting shuffle_files=True because split=TRAIN and shuffle_files=None. This behavior will be deprecated on 2019-08-06, at which point shuffle_files=False will be the default for all splits.\n"
     ]
    }
   ],
   "source": [
    "mnist_train=tfds.load(name='mnist',split='train').repeat().shuffle(1024).batch(bs)"
   ]
  },
  {
   "cell_type": "code",
   "execution_count": 72,
   "metadata": {},
   "outputs": [
    {
     "data": {
      "text/plain": [
       "[PhysicalDevice(name='/physical_device:GPU:0', device_type='GPU')]"
      ]
     },
     "execution_count": 72,
     "metadata": {},
     "output_type": "execute_result"
    }
   ],
   "source": [
    "tf.config.experimental.list_physical_devices('GPU')"
   ]
  },
  {
   "cell_type": "code",
   "execution_count": 73,
   "metadata": {},
   "outputs": [],
   "source": [
    "initial = tf.initializers.he_normal()\n",
    "class DEC_enc(Model):\n",
    "    def __init__(self):\n",
    "        super(DEC_enc,self).__init__()\n",
    "        self.w1 = tf.Variable(initial_value=initial(shape=[784,500]), name='weights1',shape=(784,500))\n",
    "        self.b1 = tf.Variable(tf.zeros(500), name='bias1')\n",
    "        self.w2 = tf.Variable(initial_value=initial(shape=[500,500]), name='weights1')\n",
    "        self.b2 = tf.Variable(tf.zeros(500), name='bias1')\n",
    "        self.w3 = tf.Variable(initial_value=initial(shape=[500,2000]), name='weights1')\n",
    "        self.b3 = tf.Variable(tf.zeros(2000), name='bias1')\n",
    "        self.w4 = tf.Variable(initial_value=initial(shape=[2000,10]), name='weights1')\n",
    "        self.b4 = tf.Variable(tf.zeros(10), name='bias1')\n",
    "        self.bn1 = tf.compat.v1.layers.BatchNormalization()\n",
    "        self.bn2 = tf.compat.v1.layers.BatchNormalization()\n",
    "        self.bn3 = tf.compat.v1.layers.BatchNormalization()\n",
    "        self.bn4 = tf.compat.v1.layers.BatchNormalization()\n",
    "        self.vars = [self.w1,self.b1,self.w2,self.b2,self.w3,self.b3,self.w4,self.b4]\n",
    "\n",
    "\n",
    "    def __call__(self,x):\n",
    "        x = x@self.w1 + self.b1\n",
    "        x = tf.nn.relu(x)\n",
    "        x=self.bn1(x)\n",
    "        x = x@self.w2 + self.b2\n",
    "        x = tf.nn.relu(x)\n",
    "        try: x=self.bn2(x)\n",
    "        except: set_trace()\n",
    "        x = x@self.w3 + self.b3\n",
    "        x = tf.nn.relu(x)\n",
    "        x=self.bn3(x)\n",
    "        x = x@self.w4 + self.b4\n",
    "        return x\n",
    "\n",
    "class DEC_dec():\n",
    "    def __init__(self):\n",
    "        super(DEC_dec,self).__init__()\n",
    "        self.w1 = tf.Variable(initial_value=initial(shape=[10,2000]), name='weights1')\n",
    "        self.b1 = tf.Variable(tf.zeros(2000), name='bias1')\n",
    "        self.w2 = tf.Variable(initial_value=initial(shape=[2000,500]), name='weights1')\n",
    "        self.b2 = tf.Variable(tf.zeros(500), name='bias1')\n",
    "        self.w3 = tf.Variable(initial_value=initial(shape=[500,500]), name='weights1')\n",
    "        self.b3 = tf.Variable(tf.zeros(500), name='bias1')\n",
    "        self.w4 = tf.Variable(initial_value=initial(shape=[500,784]), name='weights1')\n",
    "        self.b4 = tf.Variable(tf.zeros(784), name='bias1')\n",
    "        self.bn1 = tf.compat.v1.layers.BatchNormalization()\n",
    "        self.bn2 = tf.compat.v1.layers.BatchNormalization()\n",
    "        self.bn3 = tf.compat.v1.layers.BatchNormalization()\n",
    "        self.bn4 = tf.compat.v1.layers.BatchNormalization()\n",
    "        self.vars = [self.w1,self.b1,self.w2,self.b2,self.w3,self.b3,self.w4,self.b4]\n",
    "\n",
    "    def __call__(self,x):\n",
    "        x = x@self.w1 + self.b1\n",
    "        x = tf.nn.relu(x)\n",
    "        x=self.bn1(x)\n",
    "        x = x@self.w2 + self.b2\n",
    "        x = tf.nn.relu(x)\n",
    "        x=self.bn2(x)\n",
    "        x = x@self.w3 + self.b3\n",
    "        x = tf.nn.relu(x)\n",
    "        x=self.bn3(x)\n",
    "        x = x@self.w4 + self.b4\n",
    "        return tf.nn.tanh(x)"
   ]
  },
  {
   "cell_type": "code",
   "execution_count": 74,
   "metadata": {},
   "outputs": [],
   "source": [
    "initial = tf.initializers.he_normal()\n",
    "class Conv_enc(Model):\n",
    "    def __init__(self):\n",
    "        super(DEC_enc,self).__init__()\n",
    "        self.w1 = tf.Variable(initial_value=initial(shape=[784,500]), name='weights1',shape=(784,500))\n",
    "        self.b1 = tf.Variable(tf.zeros(500), name='bias1')\n",
    "        self.w2 = tf.Variable(initial_value=initial(shape=[500,500]), name='weights1')\n",
    "        self.b2 = tf.Variable(tf.zeros(500), name='bias1')\n",
    "        self.w3 = tf.Variable(initial_value=initial(shape=[500,2000]), name='weights1')\n",
    "        self.b3 = tf.Variable(tf.zeros(2000), name='bias1')\n",
    "        self.w4 = tf.Variable(initial_value=initial(shape=[2000,10]), name='weights1')\n",
    "        self.b4 = tf.Variable(tf.zeros(10), name='bias1')\n",
    "        self.bn1 = tf.compat.v1.layers.BatchNormalization()\n",
    "        self.bn2 = tf.compat.v1.layers.BatchNormalization()\n",
    "        self.bn3 = tf.compat.v1.layers.BatchNormalization()\n",
    "        self.bn4 = tf.compat.v1.layers.BatchNormalization()\n",
    "        self.vars = [self.w1,self.b1,self.w2,self.b2,self.w3,self.b3,self.w4,self.b4]\n",
    "\n",
    "\n",
    "    def __call__(self,x):\n",
    "        x = x@self.w1 + self.b1\n",
    "        x = tf.nn.relu(x+0.5)-0.5\n",
    "        x=self.bn1(x)\n",
    "        x = x@self.w2 + self.b2\n",
    "        x = tf.nn.relu(x+0.5)-0.5\n",
    "        try: x=self.bn2(x)\n",
    "        except: set_trace()\n",
    "        x = x@self.w3 + self.b3\n",
    "        x = tf.nn.relu(x+0.5)-0.5\n",
    "        x=self.bn3(x)\n",
    "        x = x@self.w4 + self.b4\n",
    "        return x\n",
    "\n",
    "class Conv_dec():\n",
    "    def __init__(self):\n",
    "        super(DEC_dec,self).__init__()\n",
    "        self.w1 = tf.Variable(initial_value=initial(shape=[3,3,1,4]), name='weights1')\n",
    "        self.b1 = tf.Variable(tf.zeros(4), name='bias1')\n",
    "        self.w2 = tf.Variable(initial_value=initial(shape=[3,3,4,8]), name='weights1')\n",
    "        self.b2 = tf.Variable(tf.zeros(8), name='bias1')\n",
    "        self.w3 = tf.Variable(initial_value=initial(shape=[3,3,8,16]), name='weights1')\n",
    "        self.b3 = tf.Variable(tf.zeros(16), name='bias1')\n",
    "        self.w4 = tf.Variable(initial_value=initial(shape=[3,3,16,32]), name='weights1')\n",
    "        self.b4 = tf.Variable(tf.zeros(32), name='bias1')\n",
    "        self.w5 = tf.Variable(initial_value=initial(shape=[3,3,1,4]), name='weights1')\n",
    "        self.b5 = tf.Variable(tf.zeros(4), name='bias1')\n",
    "        self.w6 = tf.Variable(initial_value=initial(shape=[3,3,4,8]), name='weights1')\n",
    "        self.b6 = tf.Variable(tf.zeros(8), name='bias1')\n",
    "        self.w7 = tf.Variable(initial_value=initial(shape=[3,3,8,16]), name='weights1')\n",
    "        self.b7 = tf.Variable(tf.zeros(16), name='bias1')\n",
    "        self.w8 = tf.Variable(initial_value=initial(shape=[3,3,16,32]), name='weights1')\n",
    "        self.b8 = tf.Variable(tf.zeros(32), name='bias1')\n",
    "        self.bn1 = tf.compat.v1.layers.BatchNormalization()\n",
    "        self.bn2 = tf.compat.v1.layers.BatchNormalization()\n",
    "        self.bn3 = tf.compat.v1.layers.BatchNormalization()\n",
    "        self.bn4 = tf.compat.v1.layers.BatchNormalization()\n",
    "        self.bn5 = tf.compat.v1.layers.BatchNormalization()\n",
    "        self.bn6 = tf.compat.v1.layers.BatchNormalization()\n",
    "        self.bn7 = tf.compat.v1.layers.BatchNormalization()\n",
    "        self.bn8 = tf.compat.v1.layers.BatchNormalization()\n",
    "        self.vars = [self.w1,self.b1,self.w2,self.b2,self.w3,self.b3,self.w4,self.b4]\n",
    "\n",
    "    def __call__(self,x):\n",
    "        x = x@self.w1 + self.b1\n",
    "        x = tf.nn.relu(x+0.5)-0.5\n",
    "        x=self.bn1(x)\n",
    "        x = x@self.w2 + self.b2\n",
    "        x = tf.nn.relu(x+0.5)-0.5\n",
    "        x=self.bn2(x)\n",
    "        x = x@self.w3 + self.b3\n",
    "        x = tf.nn.relu(x+0.5)-0.5\n",
    "        x=self.bn3(x)\n",
    "        x = x@self.w4 + self.b4\n",
    "        return x"
   ]
  },
  {
   "cell_type": "code",
   "execution_count": 75,
   "metadata": {},
   "outputs": [],
   "source": [
    "enc1 = DEC_enc()\n",
    "enc2 = DEC_enc()\n",
    "dec1 = DEC_dec()\n",
    "\n",
    "cweights = tf.Variable(initial_value=initial(shape=[10,1]))\n",
    "def crit(x): return enc2(x)@cweights"
   ]
  },
  {
   "cell_type": "code",
   "execution_count": 76,
   "metadata": {},
   "outputs": [],
   "source": [
    "ropt = tf.optimizers.Adam(1e-4)\n",
    "copt = tf.optimizers.Adam(1e-4)\n",
    "closs_func = tf.nn.sigmoid_cross_entropy_with_logits\n",
    "rloss_func = tf.losses.MeanAbsoluteError()\n",
    "mse = tf.losses.MSE"
   ]
  },
  {
   "cell_type": "code",
   "execution_count": 77,
   "metadata": {},
   "outputs": [
    {
     "name": "stdout",
     "output_type": "stream",
     "text": [
      "tf.Tensor(0.49526685, shape=(), dtype=float32) tf.Tensor(1.2867469, shape=(), dtype=float32)\n",
      "tf.Tensor(0.12980527, shape=(), dtype=float32) tf.Tensor(1.2986128, shape=(), dtype=float32)\n",
      "tf.Tensor(0.12753206, shape=(), dtype=float32) tf.Tensor(1.2953727, shape=(), dtype=float32)\n",
      "tf.Tensor(0.1310065, shape=(), dtype=float32) tf.Tensor(1.2922479, shape=(), dtype=float32)\n",
      "tf.Tensor(0.13059121, shape=(), dtype=float32) tf.Tensor(1.289129, shape=(), dtype=float32)\n",
      "tf.Tensor(0.12789392, shape=(), dtype=float32) tf.Tensor(1.2881004, shape=(), dtype=float32)\n",
      "tf.Tensor(0.124239676, shape=(), dtype=float32) tf.Tensor(1.3083122, shape=(), dtype=float32)\n",
      "tf.Tensor(0.13132022, shape=(), dtype=float32) tf.Tensor(1.2950115, shape=(), dtype=float32)\n",
      "tf.Tensor(0.12705322, shape=(), dtype=float32) tf.Tensor(1.3009065, shape=(), dtype=float32)\n",
      "tf.Tensor(0.12586589, shape=(), dtype=float32) tf.Tensor(1.2814822, shape=(), dtype=float32)\n",
      "None\n",
      "> \u001b[0;32m<ipython-input-77-9041b37824ae>\u001b[0m(28)\u001b[0;36m<module>\u001b[0;34m()\u001b[0m\n",
      "\u001b[0;32m     27 \u001b[0;31m    \u001b[0;32mif\u001b[0m \u001b[0;34m(\u001b[0m\u001b[0mbatch_idx\u001b[0m\u001b[0;34m+\u001b[0m\u001b[0;36m1\u001b[0m\u001b[0;34m)\u001b[0m\u001b[0;34m%\u001b[0m\u001b[0;36m500\u001b[0m\u001b[0;34m==\u001b[0m\u001b[0;36m0\u001b[0m\u001b[0;34m:\u001b[0m \u001b[0mset_trace\u001b[0m\u001b[0;34m(\u001b[0m\u001b[0;34m)\u001b[0m\u001b[0;34m\u001b[0m\u001b[0;34m\u001b[0m\u001b[0m\n",
      "\u001b[0m\u001b[0;32m---> 28 \u001b[0;31m    \u001b[0;32mif\u001b[0m \u001b[0mrloss\u001b[0m \u001b[0;34m<\u001b[0m \u001b[0;36m0.12\u001b[0m\u001b[0;34m:\u001b[0m \u001b[0;32mbreak\u001b[0m\u001b[0;34m\u001b[0m\u001b[0;34m\u001b[0m\u001b[0m\n",
      "\u001b[0m\u001b[0;32m     29 \u001b[0;31m\u001b[0m_\u001b[0m\u001b[0;34m,\u001b[0m \u001b[0maxes\u001b[0m \u001b[0;34m=\u001b[0m \u001b[0mplt\u001b[0m\u001b[0;34m.\u001b[0m\u001b[0msubplots\u001b[0m\u001b[0;34m(\u001b[0m\u001b[0;36m5\u001b[0m\u001b[0;34m,\u001b[0m\u001b[0;36m4\u001b[0m\u001b[0;34m,\u001b[0m\u001b[0mfigsize\u001b[0m\u001b[0;34m=\u001b[0m\u001b[0;34m(\u001b[0m\u001b[0;36m15\u001b[0m\u001b[0;34m,\u001b[0m\u001b[0;36m10\u001b[0m\u001b[0;34m)\u001b[0m\u001b[0;34m)\u001b[0m\u001b[0;34m\u001b[0m\u001b[0;34m\u001b[0m\u001b[0m\n",
      "\u001b[0m\n",
      "ipdb> c\n",
      "tf.Tensor(0.12954456, shape=(), dtype=float32) tf.Tensor(1.2799726, shape=(), dtype=float32)\n",
      "tf.Tensor(0.12986296, shape=(), dtype=float32) tf.Tensor(1.2841691, shape=(), dtype=float32)\n",
      "tf.Tensor(0.13061853, shape=(), dtype=float32) tf.Tensor(1.2774005, shape=(), dtype=float32)\n",
      "tf.Tensor(0.12463081, shape=(), dtype=float32) tf.Tensor(1.2867659, shape=(), dtype=float32)\n",
      "tf.Tensor(0.12576328, shape=(), dtype=float32) tf.Tensor(1.2659302, shape=(), dtype=float32)\n",
      "tf.Tensor(0.1263325, shape=(), dtype=float32) tf.Tensor(1.2862287, shape=(), dtype=float32)\n",
      "tf.Tensor(0.13048738, shape=(), dtype=float32) tf.Tensor(1.2759963, shape=(), dtype=float32)\n",
      "tf.Tensor(0.1280163, shape=(), dtype=float32) tf.Tensor(1.2745713, shape=(), dtype=float32)\n",
      "tf.Tensor(0.13042532, shape=(), dtype=float32) tf.Tensor(1.2759658, shape=(), dtype=float32)\n",
      "tf.Tensor(0.12480093, shape=(), dtype=float32) tf.Tensor(1.2904867, shape=(), dtype=float32)\n",
      "None\n",
      "> \u001b[0;32m<ipython-input-77-9041b37824ae>\u001b[0m(27)\u001b[0;36m<module>\u001b[0;34m()\u001b[0m\n",
      "\u001b[0;32m     26 \u001b[0;31m    \u001b[0;32mif\u001b[0m \u001b[0mbatch_idx\u001b[0m\u001b[0;34m%\u001b[0m\u001b[0;36m50\u001b[0m\u001b[0;34m==\u001b[0m\u001b[0;36m0\u001b[0m\u001b[0;34m:\u001b[0m \u001b[0mprint\u001b[0m\u001b[0;34m(\u001b[0m\u001b[0mrloss\u001b[0m\u001b[0;34m,\u001b[0m\u001b[0mcloss\u001b[0m\u001b[0;34m)\u001b[0m\u001b[0;34m\u001b[0m\u001b[0;34m\u001b[0m\u001b[0m\n",
      "\u001b[0m\u001b[0;32m---> 27 \u001b[0;31m    \u001b[0;32mif\u001b[0m \u001b[0;34m(\u001b[0m\u001b[0mbatch_idx\u001b[0m\u001b[0;34m+\u001b[0m\u001b[0;36m1\u001b[0m\u001b[0;34m)\u001b[0m\u001b[0;34m%\u001b[0m\u001b[0;36m500\u001b[0m\u001b[0;34m==\u001b[0m\u001b[0;36m0\u001b[0m\u001b[0;34m:\u001b[0m \u001b[0mset_trace\u001b[0m\u001b[0;34m(\u001b[0m\u001b[0;34m)\u001b[0m\u001b[0;34m\u001b[0m\u001b[0;34m\u001b[0m\u001b[0m\n",
      "\u001b[0m\u001b[0;32m     28 \u001b[0;31m    \u001b[0;32mif\u001b[0m \u001b[0mrloss\u001b[0m \u001b[0;34m<\u001b[0m \u001b[0;36m0.12\u001b[0m\u001b[0;34m:\u001b[0m \u001b[0;32mbreak\u001b[0m\u001b[0;34m\u001b[0m\u001b[0;34m\u001b[0m\u001b[0m\n",
      "\u001b[0m\n",
      "ipdb> c#\n",
      "tf.Tensor(0.12929565, shape=(), dtype=float32) tf.Tensor(1.2747912, shape=(), dtype=float32)\n"
     ]
    },
    {
     "data": {
      "image/png": "[encoded data removed]",
      "text/plain": [
       "<Figure size 1080x720 with 20 Axes>"
      ]
     },
     "metadata": {
      "needs_background": "light"
     },
     "output_type": "display_data"
    }
   ],
   "source": [
    "enc1.train,dec1.train,enc2.train = [True]*3\n",
    "for batch_idx, dp in enumerate(mnist_train):\n",
    "    with tf.GradientTape(persistent=True) as tape:\n",
    "        alpha,gamma = tf.random.uniform([bs,1]),tf.random.uniform([bs,1])\n",
    "        inp=tf.reshape(dp['image'],(-1,784))\n",
    "        prev_latent = tf.Variable(tf.zeros([bs,10]) if batch_idx == 0 else latent)\n",
    "        inp=tf.Variable(tf.dtypes.cast(inp,tf.dtypes.float32)/255.,trainable=False)\n",
    "        latent = enc1(inp)\n",
    "        preds = dec1(latent)\n",
    "        pixel_interp = gamma*inp + (1-gamma)*preds\n",
    "        latent_interp = dec1(alpha*latent + (1-alpha)*prev_latent)\n",
    "        true_crit = crit(pixel_interp)\n",
    "        alpha_crit = crit(latent_interp)\n",
    "        rloss1 = rloss_func(inp,preds)\n",
    "        rloss2 = mse(tf.zeros_like(alpha_crit),alpha_crit)\n",
    "        closs1 = closs_func(tf.zeros_like(true_crit),true_crit)\n",
    "        closs2 = closs_func(tf.broadcast_to(alpha,alpha_crit.shape),alpha_crit)\n",
    "        rloss = tf.reduce_mean(rloss1+lmbda*rloss2)\n",
    "        closs = tf.reduce_mean(closs1+closs2)\n",
    "    rgrads = tape.gradient(rloss, enc1.vars+dec1.vars)\n",
    "    ropt.apply_gradients(zip(rgrads,enc1.vars+dec1.vars))\n",
    "    cgrads = tape.gradient(closs, enc2.vars+[cweights])\n",
    "    copt.apply_gradients(zip(rgrads,enc1.vars+dec1.vars))\n",
    "#         ropt.minimize(rloss,var_list=enc1.vars + dec1.vars)\n",
    "#         copt.minimize(closs,var_list=enc2.vars)\n",
    "    if batch_idx%50==0: print(rloss,closs)\n",
    "    if (batch_idx+1)%500==0: set_trace()\n",
    "    if rloss < 0.12: break\n",
    "_, axes = plt.subplots(5,4,figsize=(15,10))\n",
    "for i in range(5):\n",
    "    axes[i,0].imshow(tf.reshape(inp[i],(28,28)))\n",
    "    axes[i,1].imshow(tf.reshape(preds[i],(28,28)))\n",
    "    axes[i,2].imshow(tf.reshape(inp[i+1],(28,28)))\n",
    "    axes[i,3].imshow(tf.reshape(preds[i+1],(28,28)))\n",
    "plt.show()"
   ]
  },
  {
   "cell_type": "code",
   "execution_count": 78,
   "metadata": {},
   "outputs": [
    {
     "data": {
      "text/plain": [
       "True"
      ]
     },
     "execution_count": 78,
     "metadata": {},
     "output_type": "execute_result"
    }
   ],
   "source": [
    "inp=tf.Variable(tf.ones([bs,784]))\n",
    "def l(): return inp+1\n",
    "# ropt.minimize(l,var_list=[test])\n",
    "inp.trainable\n",
    "# inp.value()"
   ]
  },
  {
   "cell_type": "code",
   "execution_count": 79,
   "metadata": {},
   "outputs": [],
   "source": [
    "w5 = tf.Variable(initial_value=initial(shape=[10,2000]), name='weights1')\n",
    "b5 = tf.Variable(tf.zeros(2000), name='bias1')\n",
    "w6 = tf.Variable(initial_value=initial(shape=[2000,500]), name='weights1')\n",
    "b6 = tf.Variable(tf.zeros(500), name='bias1')\n",
    "w7 = tf.Variable(initial_value=initial(shape=[500,500]), name='weights1')\n",
    "b7 = tf.Variable(tf.zeros(500), name='bias1')\n",
    "w8 = tf.Variable(initial_value=initial(shape=[500,784]), name='weights1')\n",
    "b8 = tf.Variable(tf.zeros(784), name='bias1')"
   ]
  },
  {
   "cell_type": "code",
   "execution_count": 80,
   "metadata": {},
   "outputs": [
    {
     "ename": "SyntaxError",
     "evalue": "invalid syntax (<ipython-input-80-763e066959be>, line 1)",
     "output_type": "error",
     "traceback": [
      "\u001b[0;36m  File \u001b[0;32m\"<ipython-input-80-763e066959be>\"\u001b[0;36m, line \u001b[0;32m1\u001b[0m\n\u001b[0;31m    b8 =\u001b[0m\n\u001b[0m         ^\u001b[0m\n\u001b[0;31mSyntaxError\u001b[0m\u001b[0;31m:\u001b[0m invalid syntax\n"
     ]
    }
   ],
   "source": [
    "b8 = "
   ]
  }
 ],
 "metadata": {
  "kernelspec": {
   "display_name": "Python 3",
   "language": "python",
   "name": "python3"
  },
  "language_info": {
   "codemirror_mode": {
    "name": "ipython",
    "version": 3
   },
   "file_extension": ".py",
   "mimetype": "text/x-python",
   "name": "python",
   "nbconvert_exporter": "python",
   "pygments_lexer": "ipython3",
   "version": "3.7.3"
  }
 },
 "nbformat": 4,
 "nbformat_minor": 2
}
